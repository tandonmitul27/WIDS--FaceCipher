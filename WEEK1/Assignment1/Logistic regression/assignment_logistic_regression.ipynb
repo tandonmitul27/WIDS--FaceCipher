{
 "cells": [
  {
   "cell_type": "markdown",
   "metadata": {
    "id": "wNEUsAHHCGk2"
   },
   "source": [
    "##ASSIGNMENT\n",
    "#Dataset\n",
    "Assume you are a scientist who is trying to make a propellent and is trying many tests to make an efficient propellent .\n",
    "<br>\n",
    "You have performed two tests.\n",
    "<br>\n",
    "From the two tests you would like whether this propellent works efficiently or not.\n",
    "Build your own logistic regression model to decide .\n",
    "<br>\n",
    "Text with \"DO NOT EDIT THIS CODE\" needs to be only run do not edit it\n"
   ]
  },
  {
   "cell_type": "code",
   "execution_count": 19,
   "metadata": {
    "id": "xJm_XXJo4RDg"
   },
   "outputs": [],
   "source": [
    "#import libraries\n",
    "import pandas as pd\n",
    "import numpy as np\n",
    "import matplotlib.pyplot as plt\n",
    "import math"
   ]
  },
  {
   "cell_type": "code",
   "execution_count": 6,
   "metadata": {
    "id": "YtL0jW6m4e1A"
   },
   "outputs": [],
   "source": [
    "#load data\n",
    "data=np.loadtxt(\"data.txt\", delimiter=',')\n",
    "X=data[:,:2]\n",
    "y=data[:,2]\n",
    "X_train=X\n",
    "y_train=y"
   ]
  },
  {
   "cell_type": "code",
   "execution_count": 7,
   "metadata": {
    "id": "Bk2qYHyk4mNm"
   },
   "outputs": [],
   "source": [
    "#plot data to visualise\n",
    "def plot_data(X,y,positive_label=\"y=1\", negative_label=\"y=0\"):\n",
    "#positive_label and negative_label refers to classes of y as y can be 0 or 1\n",
    "    positive = y == 1\n",
    "    negative = y == 0\n",
    "    plt.plot(X[positive, 0], X[positive, 1], 'k+', label=positive_label)\n",
    "    plt.plot(X[negative, 0], X[negative, 1], 'yo', label=negative_label)\n",
    "#While plotting graph the label parameter will be either positive_label or negative_label so plot both the labels for"
   ]
  },
  {
   "cell_type": "code",
   "execution_count": 8,
   "metadata": {
    "id": "RzsMdrwv58tQ"
   },
   "outputs": [
    {
     "data": {
      "image/png": "[encoded data removed]",
      "text/plain": [
       "<Figure size 640x480 with 1 Axes>"
      ]
     },
     "metadata": {},
     "output_type": "display_data"
    }
   ],
   "source": [
    "#test\n",
    "plot_data(X_train, y_train[:], positive_label=\"Accepted\", negative_label=\"Rejected\")\n",
    "\n",
    "\n",
    "plt.xlabel('Test 2')\n",
    "plt.ylabel('Test 1')\n",
    "plt.legend(loc=\"upper right\")\n",
    "plt.show()"
   ]
  },
  {
   "cell_type": "code",
   "execution_count": 9,
   "metadata": {
    "id": "KhRBdaFi6nKo"
   },
   "outputs": [],
   "source": [
    "#feature mapping\n",
    "def map_feature(X1,X2):\n",
    "    X1=np.atleast_1d(X1)\n",
    "    X2=np.atleast_1d(X2)\n",
    "    degree=6\n",
    "    out=[]\n",
    "    for i in range(1,degree+1):\n",
    "        for j in range(i+1):\n",
    "            out.append((X1**(i-j) * (X2**j)))\n",
    "    return np.stack(out, axis=1)"
   ]
  },
  {
   "cell_type": "code",
   "execution_count": 10,
   "metadata": {
    "id": "PNS4kJfq6_m8"
   },
   "outputs": [
    {
     "name": "stdout",
     "output_type": "stream",
     "text": [
      "Original shape of data: (118, 2)\n",
      "Shape after feature mapping: (118, 27)\n"
     ]
    }
   ],
   "source": [
    "print(\"Original shape of data:\", X_train.shape)\n",
    "\n",
    "mapped_X =  map_feature(X_train[:, 0], X_train[:, 1])\n",
    "print(\"Shape after feature mapping:\", mapped_X.shape)"
   ]
  },
  {
   "cell_type": "code",
   "execution_count": 11,
   "metadata": {
    "cellView": "form",
    "id": "BqlxZOXoHh4z"
   },
   "outputs": [],
   "source": [
    "# @title DO NOT EDIT THIS CODE\n",
    "def sigmoid_test(target):\n",
    "    assert np.isclose(target(3.0), 0.9525741268224334), \"Failed for scalar input\"\n",
    "    assert np.allclose(target(np.array([2.5, 0])), [0.92414182, 0.5]), \"Failed for 1D array\"\n",
    "    assert np.allclose(target(np.array([[2.5, -2.5], [0, 1]])),\n",
    "                       [[0.92414182, 0.07585818], [0.5, 0.73105858]]), \"Failed for 2D array\"\n",
    "    print('\\033[92mTests passed!')"
   ]
  },
  {
   "cell_type": "code",
   "execution_count": 14,
   "metadata": {
    "id": "wdgE-ay07C0P"
   },
   "outputs": [],
   "source": [
    "# @title Default title text\n",
    "#sigmoid function\n",
    "def sigmoid(z):\n",
    "    return 1/(1+np.exp(-z))"
   ]
  },
  {
   "cell_type": "code",
   "execution_count": 15,
   "metadata": {
    "id": "9XOlXXyxHnmB"
   },
   "outputs": [
    {
     "name": "stdout",
     "output_type": "stream",
     "text": [
      "\u001b[92mTests passed!\n"
     ]
    }
   ],
   "source": [
    "sigmoid_test(sigmoid)"
   ]
  },
  {
   "cell_type": "code",
   "execution_count": 38,
   "metadata": {
    "cellView": "form",
    "id": "QLqfyxPrH-v-"
   },
   "outputs": [],
   "source": [
    "# @title DO NOT EDIT THIS CODE\n",
    "def compute_cost_test(target):\n",
    "    X = np.array([[0, 0, 0, 0]]).T\n",
    "    y = np.array([0, 0, 0, 0])\n",
    "    w = np.array([0])\n",
    "    b = 1\n",
    "    result = target(X, y, w, b)\n",
    "    if math.isinf(result):\n",
    "        raise ValueError(\"Did you get the sigmoid of z_wb?\")\n",
    "\n",
    "    np.random.seed(17)\n",
    "    X = np.random.randn(5, 2)\n",
    "    y = np.array([1, 0, 0, 1, 1])\n",
    "    w = np.random.randn(2)\n",
    "    b = 0\n",
    "    \n",
    "    result = target(X, y, w, b)\n",
    "    assert np.isclose(result, 2.15510667), f\"Wrong output. Expected: {2.15510667} got: {result}\"\n",
    "\n",
    "    X = np.random.randn(4, 3)\n",
    "    y = np.array([1, 1, 0, 0])\n",
    "    w = np.random.randn(3)\n",
    "    b = 0\n",
    "\n",
    "    result = target(X, y, w, b)\n",
    "    assert np.isclose(result, 0.80709376), f\"Wrong output. Expected: {0.80709376} got: {result}\"\n",
    "\n",
    "    X = np.random.randn(4, 3)\n",
    "    y = np.array([1, 0,1, 0])\n",
    "    w = np.random.randn(3)\n",
    "    b = 3\n",
    "    result = target(X, y, w, b)\n",
    "    assert np.isclose(result, 0.4529660647), f\"Wrong output. Expected: {0.4529660647} got: {result}. Did you inizialized z_wb = b?\"\n",
    "\n",
    "    print('\\033[92mTests passed!')"
   ]
  },
  {
   "cell_type": "code",
   "execution_count": 43,
   "metadata": {
    "cellView": "form",
    "id": "PRIqcpJ17MzH"
   },
   "outputs": [],
   "source": [
    "# @title Default title text\n",
    "\n",
    "def compute_cost(X,y,w,b,lambda_=1):\n",
    "    \n",
    "    m = len(y)\n",
    "\n",
    "    z = np.dot(X, w) + b\n",
    "    predictions = sigmoid(z)\n",
    "    \n",
    "    total_cost = -np.mean(y*np.log(predictions) + (1-y)*np.log(1-predictions))\n",
    "    \n",
    "    return total_cost"
   ]
  },
  {
   "cell_type": "code",
   "execution_count": 44,
   "metadata": {
    "cellView": "form",
    "id": "MPOvLzL5H5-5"
   },
   "outputs": [
    {
     "name": "stdout",
     "output_type": "stream",
     "text": [
      "Cost at test w,b: 11.777\n",
      "\u001b[92mTests passed!\n"
     ]
    }
   ],
   "source": [
    "# @title Default title text\n",
    "test_w = np.array([0.2, 0.2])\n",
    "test_b = -24.\n",
    "cost = compute_cost(X_train, y_train, test_w, test_b)\n",
    "\n",
    "print('Cost at test w,b: {:.3f}'.format(cost))\n",
    "\n",
    "\n",
    "# test\n",
    "compute_cost_test(compute_cost)"
   ]
  },
  {
   "cell_type": "code",
   "execution_count": 45,
   "metadata": {
    "id": "ULkWUBkO7ffh"
   },
   "outputs": [],
   "source": [
    "# @title Default title text\n",
    "#compute regularised cost\n",
    "def compute_cost_reg(X, y, w, b, lambda_ = 1):\n",
    "\n",
    "    m = len(y)\n",
    "\n",
    "    z = np.dot(X, w) + b\n",
    "    predictions = sigmoid(z)\n",
    "    \n",
    "    loss = -np.mean(y*np.log(predictions) + (1-y)*np.log(1-predictions))\n",
    "    reg = (lambda_ / (2 * m)) * np.sum(w**2)\n",
    "    \n",
    "    total_cost = loss + reg\n",
    "\n",
    "    return total_cost"
   ]
  },
  {
   "cell_type": "code",
   "execution_count": 46,
   "metadata": {
    "cellView": "form",
    "id": "OhFbPakDGKQj"
   },
   "outputs": [],
   "source": [
    "# @title DO NOT EDIT THIS CODE\n",
    "def compute_cost_reg_test(target):\n",
    "    np.random.seed(1)\n",
    "    w = np.random.randn(3)\n",
    "    b = 0.4\n",
    "    X = np.random.randn(6, 3)\n",
    "    y = np.array([0, 1, 1, 0, 1, 1])\n",
    "    lambda_ = 0.1\n",
    "    expected_output = target(X, y, w, b, lambda_)\n",
    "\n",
    "    assert np.isclose(expected_output, 0.5469746792761936), f\"Wrong output. Expected: {0.5469746792761936} got:{expected_output}\"\n",
    "\n",
    "    w = np.random.randn(5)\n",
    "    b = -0.6\n",
    "    X = np.random.randn(8, 5)\n",
    "    y = np.array([1, 0, 1, 0, 0, 1, 0, 1])\n",
    "    lambda_ = 0.01\n",
    "    output = target(X, y, w, b, lambda_)\n",
    "    assert np.isclose(output, 1.2608591964119995), f\"Wrong output. Expected: {1.2608591964119995} got:{output}\"\n",
    "\n",
    "    w = np.array([2, 2, 2, 2, 2])\n",
    "    b = 0\n",
    "    X = np.zeros((8, 5))\n",
    "    y = np.array([0.5] * 8)\n",
    "    lambda_ = 3\n",
    "    output = target(X, y, w, b, lambda_)\n",
    "    expected = -np.log(0.5) + 3. / (2. * 8.) * 20.\n",
    "    assert np.isclose(output, expected), f\"Wrong output. Expected: {expected} got:{output}\"\n",
    "\n",
    "    print('\\033[92mAll tests passed!')"
   ]
  },
  {
   "cell_type": "code",
   "execution_count": 47,
   "metadata": {
    "id": "jO14e7OD7syR"
   },
   "outputs": [
    {
     "name": "stdout",
     "output_type": "stream",
     "text": [
      "Regularised cost : 0.6618252552483951\n",
      "\u001b[92mAll tests passed!\n"
     ]
    }
   ],
   "source": [
    "X_mapped = map_feature(X_train[:, 0], X_train[:, 1])\n",
    "np.random.seed(1)\n",
    "initial_w = np.random.rand(X_mapped.shape[1]) - 0.5\n",
    "initial_b = 0.5\n",
    "lambda_ = 0.5\n",
    "cost = compute_cost_reg(X_mapped, y_train, initial_w, initial_b, lambda_)\n",
    "\n",
    "print(\"Regularised cost :\", cost)\n",
    "\n",
    "#test\n",
    "compute_cost_reg_test(compute_cost_reg)"
   ]
  },
  {
   "cell_type": "code",
   "execution_count": 49,
   "metadata": {
    "cellView": "form",
    "id": "plQBUPM2IRei"
   },
   "outputs": [],
   "source": [
    "# @title DO NOT EDIT THIS CODE\n",
    "def compute_gradient_test(target):\n",
    "    np.random.seed(1)\n",
    "    X = np.random.randn(7, 3)\n",
    "    y = np.array([1, 0, 1, 0, 1, 1, 0])\n",
    "    test_w = np.array([1, 0.5, -0.35])\n",
    "    test_b = 1.7\n",
    "    dj_db, dj_dw  = target(X, y, test_w, test_b)\n",
    "\n",
    "    assert np.isclose(dj_db, 0.28936094), f\"Wrong value for dj_db. Expected: {0.28936094} got: {dj_db}\"\n",
    "    assert dj_dw.shape == test_w.shape, f\"Wrong shape for dj_dw. Expected: {test_w.shape} got: {dj_dw.shape}\"\n",
    "    assert np.allclose(dj_dw, [-0.11999166, 0.41498775, -0.71968405]), f\"Wrong values for dj_dw. Got: {dj_dw}\"\n",
    "\n",
    "    print('\\033[92mTests passed!')"
   ]
  },
  {
   "cell_type": "code",
   "execution_count": 65,
   "metadata": {
    "id": "v27SzhYX8-ug"
   },
   "outputs": [],
   "source": [
    "#compute gradient\n",
    "def compute_gradient(X, y, w, b, lambda_=None):\n",
    "    \n",
    "    m = len(y)\n",
    "\n",
    "    z = np.dot(X, w) + b\n",
    "    predictions = sigmoid(z)\n",
    "\n",
    "    dj_db = np.mean(predictions - y)\n",
    "\n",
    "    dj_dw = (1 / m) * np.dot(X.T, predictions - y)\n",
    "        \n",
    "    return dj_db,dj_dw"
   ]
  },
  {
   "cell_type": "code",
   "execution_count": 66,
   "metadata": {
    "id": "WLmFL2yuIPUA"
   },
   "outputs": [
    {
     "name": "stdout",
     "output_type": "stream",
     "text": [
      "dj_db at test_w: -0.4915254236924827\n",
      "dj_dw at test_w: [-0.008601361012465367, -0.09147300847306211]\n",
      "\u001b[92mTests passed!\n"
     ]
    }
   ],
   "source": [
    "test_w = np.array([ 0.2, -0.5])\n",
    "test_b = -24\n",
    "dj_db, dj_dw  = compute_gradient(X_train, y_train, test_w, test_b)\n",
    "\n",
    "print('dj_db at test_w:', dj_db)\n",
    "print('dj_dw at test_w:', dj_dw.tolist())\n",
    "\n",
    "# test\n",
    "compute_gradient_test(compute_gradient)"
   ]
  },
  {
   "cell_type": "code",
   "execution_count": 67,
   "metadata": {
    "id": "TGfUArz09TMl"
   },
   "outputs": [],
   "source": [
    "#compute regularised gradient\n",
    "def compute_gradient_reg(X, y, w, b, lambda_=1):\n",
    "    \n",
    "    m = len(y)\n",
    "\n",
    "    z = np.dot(X, w) + b\n",
    "    predictions = sigmoid(z)\n",
    "\n",
    "    dj_db = np.mean(predictions - y)\n",
    "\n",
    "    dj_dw = (1 / m) * np.dot(X.T, predictions - y)\n",
    "\n",
    "    if lambda_ is not None: # Adding the regularization term only when lambda is not None\n",
    "        dj_dw += (lambda_ / m) * w \n",
    "\n",
    "    return dj_db,dj_dw"
   ]
  },
  {
   "cell_type": "code",
   "execution_count": 68,
   "metadata": {
    "cellView": "form",
    "id": "KNRCWIc8G2cp"
   },
   "outputs": [],
   "source": [
    "# @title DO NOT EDIT THIS CODE\n",
    "def compute_gradient_reg_test(target):\n",
    "    np.random.seed(1)\n",
    "    w = np.random.randn(5)\n",
    "    b = 0.2\n",
    "    X = np.random.randn(7, 5)\n",
    "    y = np.array([0, 1, 1, 0, 1, 1, 0])\n",
    "    lambda_ = 0.1\n",
    "    expected1 = (-0.1506447567869257, np.array([ 0.19530838, -0.00632206,  0.19687367,  0.15741161,  0.02791437]))\n",
    "    dj_db, dj_dw = target(X, y, w, b, lambda_)\n",
    "\n",
    "    assert np.isclose(dj_db, expected1[0]), f\"Wrong dj_db. Expected: {expected1[0]} got: {dj_db}\"\n",
    "    assert np.allclose(dj_dw, expected1[1]), f\"Wrong dj_dw. Expected: {expected1[1]} got: {dj_dw}\"\n",
    "\n",
    "\n",
    "    w = np.random.randn(7)\n",
    "    b = 0\n",
    "    X = np.random.randn(7, 7)\n",
    "    y = np.array([1, 0, 0, 0, 1, 1, 0])\n",
    "    lambda_ = 0\n",
    "    expected2 = (0.02660329857573818, np.array([ 0.23567643, -0.06921029, -0.19705212, -0.0002884 ,  0.06490588,\n",
    "        0.26948175,  0.10777992]))\n",
    "    dj_db, dj_dw = target(X, y, w, b, lambda_)\n",
    "    assert np.isclose(dj_db, expected2[0]), f\"Wrong dj_db. Expected: {expected2[0]} got: {dj_db}\"\n",
    "    assert np.allclose(dj_dw, expected2[1]), f\"Wrong dj_dw. Expected: {expected2[1]} got: {dj_dw}\"\n",
    "\n",
    "    print('\\033[92mTests passed!')"
   ]
  },
  {
   "cell_type": "code",
   "execution_count": 69,
   "metadata": {
    "id": "3_of_BHJ9hEc"
   },
   "outputs": [
    {
     "name": "stdout",
     "output_type": "stream",
     "text": [
      "dj_db: 0.07138288792343654\n",
      "\u001b[92mTests passed!\n"
     ]
    }
   ],
   "source": [
    "X_mapped = map_feature(X_train[:, 0], X_train[:, 1])\n",
    "np.random.seed(1)\n",
    "initial_w  = np.random.rand(X_mapped.shape[1]) - 0.5\n",
    "initial_b = 0.5\n",
    "\n",
    "lambda_ = 0.5\n",
    "dj_db, dj_dw = compute_gradient_reg(X_mapped, y_train, initial_w, initial_b, lambda_)\n",
    "\n",
    "print(f\"dj_db: {dj_db}\" )\n",
    "#test\n",
    "compute_gradient_reg_test(compute_gradient_reg)"
   ]
  },
  {
   "cell_type": "code",
   "execution_count": 125,
   "metadata": {
    "id": "c5y3Nb9Z_SC4"
   },
   "outputs": [
    {
     "name": "stdout",
     "output_type": "stream",
     "text": [
      "Iteration 0: Cost 0.7217\n",
      "Iteration 200: Cost 0.3995\n",
      "Iteration 400: Cost 0.3684\n",
      "Iteration 600: Cost 0.3571\n",
      "Iteration 800: Cost 0.3515\n",
      "Iteration 1000: Cost 0.3481\n",
      "Iteration 1200: Cost 0.3458\n",
      "Iteration 1400: Cost 0.3441\n",
      "Iteration 1600: Cost 0.3428\n",
      "Iteration 1800: Cost 0.3417\n",
      "Iteration 2000: Cost 0.3408\n",
      "Iteration 2200: Cost 0.3400\n",
      "Iteration 2400: Cost 0.3394\n",
      "Iteration 2600: Cost 0.3388\n",
      "Iteration 2800: Cost 0.3383\n",
      "Iteration 3000: Cost 0.3378\n",
      "Iteration 3200: Cost 0.3374\n",
      "Iteration 3400: Cost 0.3371\n",
      "Iteration 3600: Cost 0.3367\n",
      "Iteration 3800: Cost 0.3365\n",
      "Iteration 4000: Cost 0.3362\n",
      "Iteration 4200: Cost 0.3360\n",
      "Iteration 4400: Cost 0.3357\n",
      "Iteration 4600: Cost 0.3355\n",
      "Iteration 4800: Cost 0.3354\n",
      "Iteration 5000: Cost 0.3352\n",
      "Iteration 5200: Cost 0.3350\n",
      "Iteration 5400: Cost 0.3349\n",
      "Iteration 5600: Cost 0.3348\n",
      "Iteration 5800: Cost 0.3346\n",
      "Iteration 6000: Cost 0.3345\n",
      "Iteration 6200: Cost 0.3344\n",
      "Iteration 6400: Cost 0.3343\n",
      "Iteration 6600: Cost 0.3342\n",
      "Iteration 6800: Cost 0.3342\n",
      "Iteration 7000: Cost 0.3341\n",
      "Iteration 7200: Cost 0.3340\n",
      "Iteration 7400: Cost 0.3339\n",
      "Iteration 7600: Cost 0.3339\n",
      "Iteration 7800: Cost 0.3338\n",
      "Iteration 8000: Cost 0.3337\n",
      "Iteration 8200: Cost 0.3337\n",
      "Iteration 8400: Cost 0.3336\n",
      "Iteration 8600: Cost 0.3336\n",
      "Iteration 8800: Cost 0.3335\n",
      "Iteration 9000: Cost 0.3335\n",
      "Iteration 9200: Cost 0.3335\n",
      "Iteration 9400: Cost 0.3334\n",
      "Iteration 9600: Cost 0.3334\n",
      "Iteration 9800: Cost 0.3333\n",
      "Iteration 10000: Cost 0.3333\n",
      "Iteration 10200: Cost 0.3333\n",
      "Iteration 10400: Cost 0.3333\n",
      "Iteration 10600: Cost 0.3332\n",
      "Iteration 10800: Cost 0.3332\n",
      "Iteration 11000: Cost 0.3332\n",
      "Iteration 11200: Cost 0.3332\n",
      "Iteration 11400: Cost 0.3331\n",
      "Iteration 11600: Cost 0.3331\n",
      "Iteration 11800: Cost 0.3331\n",
      "Iteration 12000: Cost 0.3331\n",
      "Iteration 12200: Cost 0.3330\n",
      "Iteration 12400: Cost 0.3330\n",
      "Iteration 12600: Cost 0.3330\n",
      "Iteration 12800: Cost 0.3330\n",
      "Iteration 13000: Cost 0.3330\n",
      "Iteration 13200: Cost 0.3330\n",
      "Iteration 13400: Cost 0.3330\n",
      "Iteration 13600: Cost 0.3329\n",
      "Iteration 13800: Cost 0.3329\n",
      "Iteration 14000: Cost 0.3329\n",
      "Iteration 14200: Cost 0.3329\n",
      "Iteration 14400: Cost 0.3329\n",
      "Iteration 14600: Cost 0.3329\n",
      "Iteration 14800: Cost 0.3329\n",
      "Iteration 15000: Cost 0.3329\n",
      "Iteration 15200: Cost 0.3329\n",
      "Iteration 15400: Cost 0.3328\n",
      "Iteration 15600: Cost 0.3328\n",
      "Iteration 15800: Cost 0.3328\n",
      "Iteration 16000: Cost 0.3328\n",
      "Iteration 16200: Cost 0.3328\n",
      "Iteration 16400: Cost 0.3328\n",
      "Iteration 16600: Cost 0.3328\n",
      "Iteration 16800: Cost 0.3328\n",
      "Iteration 17000: Cost 0.3328\n",
      "Iteration 17200: Cost 0.3328\n",
      "Iteration 17400: Cost 0.3328\n",
      "Iteration 17600: Cost 0.3328\n",
      "Iteration 17800: Cost 0.3328\n",
      "Iteration 18000: Cost 0.3328\n",
      "Iteration 18200: Cost 0.3328\n",
      "Iteration 18400: Cost 0.3328\n",
      "Iteration 18600: Cost 0.3327\n",
      "Iteration 18800: Cost 0.3327\n",
      "Iteration 19000: Cost 0.3327\n",
      "Iteration 19200: Cost 0.3327\n",
      "Iteration 19400: Cost 0.3327\n",
      "Iteration 19600: Cost 0.3327\n",
      "Iteration 19800: Cost 0.3327\n",
      "Iteration 20000: Cost 0.3327\n",
      "Iteration 20200: Cost 0.3327\n",
      "Iteration 20400: Cost 0.3327\n",
      "Iteration 20600: Cost 0.3327\n",
      "Iteration 20800: Cost 0.3327\n",
      "Iteration 21000: Cost 0.3327\n",
      "Iteration 21200: Cost 0.3327\n",
      "Iteration 21400: Cost 0.3327\n",
      "Iteration 21600: Cost 0.3327\n",
      "Iteration 21800: Cost 0.3327\n",
      "Iteration 22000: Cost 0.3327\n",
      "Iteration 22200: Cost 0.3327\n",
      "Iteration 22400: Cost 0.3327\n",
      "Iteration 22600: Cost 0.3327\n",
      "Iteration 22800: Cost 0.3327\n",
      "Iteration 23000: Cost 0.3327\n",
      "Iteration 23200: Cost 0.3327\n",
      "Iteration 23400: Cost 0.3327\n",
      "Iteration 23600: Cost 0.3327\n",
      "Iteration 23800: Cost 0.3327\n",
      "Iteration 24000: Cost 0.3327\n",
      "Iteration 24200: Cost 0.3327\n",
      "Iteration 24400: Cost 0.3327\n",
      "Iteration 24600: Cost 0.3327\n",
      "Iteration 24800: Cost 0.3327\n",
      "Iteration 25000: Cost 0.3327\n",
      "Iteration 25200: Cost 0.3327\n",
      "Iteration 25400: Cost 0.3327\n",
      "Iteration 25600: Cost 0.3327\n",
      "Iteration 25800: Cost 0.3327\n",
      "Iteration 26000: Cost 0.3327\n",
      "Iteration 26200: Cost 0.3327\n",
      "Iteration 26400: Cost 0.3327\n",
      "Iteration 26600: Cost 0.3327\n",
      "Iteration 26800: Cost 0.3327\n",
      "Iteration 27000: Cost 0.3327\n",
      "Iteration 27200: Cost 0.3327\n",
      "Iteration 27400: Cost 0.3327\n",
      "Iteration 27600: Cost 0.3327\n",
      "Iteration 27800: Cost 0.3327\n",
      "Iteration 28000: Cost 0.3327\n",
      "Iteration 28200: Cost 0.3327\n",
      "Iteration 28400: Cost 0.3327\n",
      "Iteration 28600: Cost 0.3327\n",
      "Iteration 28800: Cost 0.3327\n",
      "Iteration 29000: Cost 0.3327\n",
      "Iteration 29200: Cost 0.3327\n",
      "Iteration 29400: Cost 0.3327\n",
      "Iteration 29600: Cost 0.3327\n",
      "Iteration 29800: Cost 0.3327\n",
      "Iteration 30000: Cost 0.3327\n",
      "Iteration 30200: Cost 0.3327\n",
      "Iteration 30400: Cost 0.3327\n",
      "Iteration 30600: Cost 0.3327\n",
      "Iteration 30800: Cost 0.3327\n",
      "Iteration 31000: Cost 0.3327\n",
      "Iteration 31200: Cost 0.3327\n",
      "Iteration 31400: Cost 0.3327\n",
      "Iteration 31600: Cost 0.3327\n",
      "Iteration 31800: Cost 0.3327\n",
      "Iteration 32000: Cost 0.3327\n",
      "Iteration 32200: Cost 0.3327\n",
      "Iteration 32400: Cost 0.3327\n",
      "Iteration 32600: Cost 0.3327\n",
      "Iteration 32800: Cost 0.3327\n",
      "Iteration 33000: Cost 0.3327\n",
      "Iteration 33200: Cost 0.3327\n",
      "Iteration 33400: Cost 0.3327\n",
      "Iteration 33600: Cost 0.3327\n",
      "Iteration 33800: Cost 0.3327\n",
      "Iteration 34000: Cost 0.3327\n",
      "Iteration 34200: Cost 0.3327\n",
      "Iteration 34400: Cost 0.3327\n",
      "Iteration 34600: Cost 0.3327\n",
      "Iteration 34800: Cost 0.3327\n",
      "Iteration 35000: Cost 0.3327\n",
      "Iteration 35200: Cost 0.3327\n",
      "Iteration 35400: Cost 0.3327\n",
      "Iteration 35600: Cost 0.3327\n",
      "Iteration 35800: Cost 0.3327\n",
      "Iteration 36000: Cost 0.3327\n",
      "Iteration 36200: Cost 0.3327\n",
      "Iteration 36400: Cost 0.3327\n",
      "Iteration 36600: Cost 0.3327\n",
      "Iteration 36800: Cost 0.3327\n",
      "Iteration 37000: Cost 0.3327\n",
      "Iteration 37200: Cost 0.3327\n",
      "Iteration 37400: Cost 0.3327\n",
      "Iteration 37600: Cost 0.3327\n",
      "Iteration 37800: Cost 0.3327\n",
      "Iteration 38000: Cost 0.3327\n",
      "Iteration 38200: Cost 0.3327\n",
      "Iteration 38400: Cost 0.3327\n",
      "Iteration 38600: Cost 0.3327\n",
      "Iteration 38800: Cost 0.3327\n",
      "Iteration 39000: Cost 0.3327\n",
      "Iteration 39200: Cost 0.3327\n",
      "Iteration 39400: Cost 0.3327\n",
      "Iteration 39600: Cost 0.3327\n",
      "Iteration 39800: Cost 0.3327\n",
      "Iteration 40000: Cost 0.3327\n",
      "Iteration 40200: Cost 0.3327\n",
      "Iteration 40400: Cost 0.3327\n",
      "Iteration 40600: Cost 0.3327\n",
      "Iteration 40800: Cost 0.3327\n",
      "Iteration 41000: Cost 0.3327\n",
      "Iteration 41200: Cost 0.3327\n",
      "Iteration 41400: Cost 0.3327\n",
      "Iteration 41600: Cost 0.3327\n",
      "Iteration 41800: Cost 0.3327\n",
      "Iteration 42000: Cost 0.3327\n",
      "Iteration 42200: Cost 0.3327\n",
      "Iteration 42400: Cost 0.3327\n",
      "Iteration 42600: Cost 0.3327\n",
      "Iteration 42800: Cost 0.3327\n",
      "Iteration 43000: Cost 0.3327\n",
      "Iteration 43200: Cost 0.3327\n",
      "Iteration 43400: Cost 0.3327\n",
      "Iteration 43600: Cost 0.3327\n",
      "Iteration 43800: Cost 0.3327\n",
      "Iteration 44000: Cost 0.3327\n",
      "Iteration 44200: Cost 0.3327\n",
      "Iteration 44400: Cost 0.3327\n",
      "Iteration 44600: Cost 0.3327\n",
      "Iteration 44800: Cost 0.3327\n",
      "Iteration 45000: Cost 0.3327\n",
      "Iteration 45200: Cost 0.3327\n",
      "Iteration 45400: Cost 0.3327\n",
      "Iteration 45600: Cost 0.3327\n",
      "Iteration 45800: Cost 0.3327\n",
      "Iteration 46000: Cost 0.3327\n",
      "Iteration 46200: Cost 0.3327\n",
      "Iteration 46400: Cost 0.3327\n",
      "Iteration 46600: Cost 0.3327\n",
      "Iteration 46800: Cost 0.3327\n",
      "Iteration 47000: Cost 0.3327\n",
      "Iteration 47200: Cost 0.3327\n",
      "Iteration 47400: Cost 0.3327\n",
      "Iteration 47600: Cost 0.3327\n",
      "Iteration 47800: Cost 0.3327\n",
      "Iteration 48000: Cost 0.3327\n",
      "Iteration 48200: Cost 0.3327\n",
      "Iteration 48400: Cost 0.3327\n",
      "Iteration 48600: Cost 0.3327\n",
      "Iteration 48800: Cost 0.3327\n",
      "Iteration 49000: Cost 0.3327\n",
      "Iteration 49200: Cost 0.3327\n",
      "Iteration 49400: Cost 0.3327\n",
      "Iteration 49600: Cost 0.3327\n",
      "Iteration 49800: Cost 0.3327\n",
      "Iteration 50000: Cost 0.3327\n",
      "Iteration 50200: Cost 0.3327\n",
      "Iteration 50400: Cost 0.3327\n",
      "Iteration 50600: Cost 0.3327\n",
      "Iteration 50800: Cost 0.3327\n",
      "Iteration 51000: Cost 0.3327\n",
      "Iteration 51200: Cost 0.3327\n",
      "Iteration 51400: Cost 0.3327\n",
      "Iteration 51600: Cost 0.3327\n",
      "Iteration 51800: Cost 0.3327\n",
      "Iteration 52000: Cost 0.3327\n",
      "Iteration 52200: Cost 0.3327\n",
      "Iteration 52400: Cost 0.3327\n",
      "Iteration 52600: Cost 0.3327\n",
      "Iteration 52800: Cost 0.3327\n",
      "Iteration 53000: Cost 0.3327\n",
      "Iteration 53200: Cost 0.3327\n",
      "Iteration 53400: Cost 0.3327\n",
      "Iteration 53600: Cost 0.3327\n",
      "Iteration 53800: Cost 0.3327\n",
      "Iteration 54000: Cost 0.3327\n",
      "Iteration 54200: Cost 0.3327\n",
      "Iteration 54400: Cost 0.3327\n",
      "Iteration 54600: Cost 0.3327\n",
      "Iteration 54800: Cost 0.3327\n",
      "Iteration 55000: Cost 0.3327\n",
      "Iteration 55200: Cost 0.3327\n",
      "Iteration 55400: Cost 0.3327\n",
      "Iteration 55600: Cost 0.3327\n",
      "Iteration 55800: Cost 0.3327\n",
      "Iteration 56000: Cost 0.3327\n",
      "Iteration 56200: Cost 0.3327\n",
      "Iteration 56400: Cost 0.3327\n",
      "Iteration 56600: Cost 0.3327\n",
      "Iteration 56800: Cost 0.3327\n",
      "Iteration 57000: Cost 0.3327\n",
      "Iteration 57200: Cost 0.3327\n",
      "Iteration 57400: Cost 0.3327\n",
      "Iteration 57600: Cost 0.3327\n",
      "Iteration 57800: Cost 0.3327\n",
      "Iteration 58000: Cost 0.3327\n",
      "Iteration 58200: Cost 0.3327\n",
      "Iteration 58400: Cost 0.3327\n",
      "Iteration 58600: Cost 0.3327\n",
      "Iteration 58800: Cost 0.3327\n",
      "Iteration 59000: Cost 0.3327\n",
      "Iteration 59200: Cost 0.3327\n",
      "Iteration 59400: Cost 0.3327\n",
      "Iteration 59600: Cost 0.3327\n",
      "Iteration 59800: Cost 0.3327\n",
      "Iteration 60000: Cost 0.3327\n",
      "Iteration 60200: Cost 0.3327\n",
      "Iteration 60400: Cost 0.3327\n",
      "Iteration 60600: Cost 0.3327\n",
      "Iteration 60800: Cost 0.3327\n",
      "Iteration 61000: Cost 0.3327\n",
      "Iteration 61200: Cost 0.3327\n",
      "Iteration 61400: Cost 0.3327\n",
      "Iteration 61600: Cost 0.3327\n",
      "Iteration 61800: Cost 0.3327\n",
      "Iteration 62000: Cost 0.3327\n",
      "Iteration 62200: Cost 0.3327\n",
      "Iteration 62400: Cost 0.3327\n"
     ]
    },
    {
     "name": "stdout",
     "output_type": "stream",
     "text": [
      "Iteration 62600: Cost 0.3327\n",
      "Iteration 62800: Cost 0.3327\n",
      "Iteration 63000: Cost 0.3327\n",
      "Iteration 63200: Cost 0.3327\n",
      "Iteration 63400: Cost 0.3327\n",
      "Iteration 63600: Cost 0.3327\n",
      "Iteration 63800: Cost 0.3327\n",
      "Iteration 64000: Cost 0.3327\n",
      "Iteration 64200: Cost 0.3327\n",
      "Iteration 64400: Cost 0.3327\n",
      "Iteration 64600: Cost 0.3327\n",
      "Iteration 64800: Cost 0.3327\n",
      "Iteration 65000: Cost 0.3327\n",
      "Iteration 65200: Cost 0.3327\n",
      "Iteration 65400: Cost 0.3327\n",
      "Iteration 65600: Cost 0.3327\n",
      "Iteration 65800: Cost 0.3327\n",
      "Iteration 66000: Cost 0.3327\n",
      "Iteration 66200: Cost 0.3327\n",
      "Iteration 66400: Cost 0.3327\n",
      "Iteration 66600: Cost 0.3327\n",
      "Iteration 66800: Cost 0.3327\n",
      "Iteration 67000: Cost 0.3327\n",
      "Iteration 67200: Cost 0.3327\n",
      "Iteration 67400: Cost 0.3327\n",
      "Iteration 67600: Cost 0.3327\n",
      "Iteration 67800: Cost 0.3327\n",
      "Iteration 68000: Cost 0.3327\n",
      "Iteration 68200: Cost 0.3327\n",
      "Iteration 68400: Cost 0.3327\n",
      "Iteration 68600: Cost 0.3327\n",
      "Iteration 68800: Cost 0.3327\n",
      "Iteration 69000: Cost 0.3327\n",
      "Iteration 69200: Cost 0.3327\n",
      "Iteration 69400: Cost 0.3327\n",
      "Iteration 69600: Cost 0.3327\n",
      "Iteration 69800: Cost 0.3327\n",
      "Iteration 70000: Cost 0.3327\n",
      "Iteration 70200: Cost 0.3327\n",
      "Iteration 70400: Cost 0.3327\n",
      "Iteration 70600: Cost 0.3327\n",
      "Iteration 70800: Cost 0.3327\n",
      "Iteration 71000: Cost 0.3327\n",
      "Iteration 71200: Cost 0.3327\n",
      "Iteration 71400: Cost 0.3327\n",
      "Iteration 71600: Cost 0.3327\n",
      "Iteration 71800: Cost 0.3327\n",
      "Iteration 72000: Cost 0.3327\n",
      "Iteration 72200: Cost 0.3327\n",
      "Iteration 72400: Cost 0.3327\n",
      "Iteration 72600: Cost 0.3327\n",
      "Iteration 72800: Cost 0.3327\n",
      "Iteration 73000: Cost 0.3327\n",
      "Iteration 73200: Cost 0.3327\n",
      "Iteration 73400: Cost 0.3327\n",
      "Iteration 73600: Cost 0.3327\n",
      "Iteration 73800: Cost 0.3327\n",
      "Iteration 74000: Cost 0.3327\n",
      "Iteration 74200: Cost 0.3327\n",
      "Iteration 74400: Cost 0.3327\n",
      "Iteration 74600: Cost 0.3327\n",
      "Iteration 74800: Cost 0.3327\n",
      "Iteration 75000: Cost 0.3327\n",
      "Iteration 75200: Cost 0.3327\n",
      "Iteration 75400: Cost 0.3327\n",
      "Iteration 75600: Cost 0.3327\n",
      "Iteration 75800: Cost 0.3327\n",
      "Iteration 76000: Cost 0.3327\n",
      "Iteration 76200: Cost 0.3327\n",
      "Iteration 76400: Cost 0.3327\n",
      "Iteration 76600: Cost 0.3327\n",
      "Iteration 76800: Cost 0.3327\n",
      "Iteration 77000: Cost 0.3327\n",
      "Iteration 77200: Cost 0.3327\n",
      "Iteration 77400: Cost 0.3327\n",
      "Iteration 77600: Cost 0.3327\n",
      "Iteration 77800: Cost 0.3327\n",
      "Iteration 78000: Cost 0.3327\n",
      "Iteration 78200: Cost 0.3327\n",
      "Iteration 78400: Cost 0.3327\n",
      "Iteration 78600: Cost 0.3327\n",
      "Iteration 78800: Cost 0.3327\n",
      "Iteration 79000: Cost 0.3327\n",
      "Iteration 79200: Cost 0.3327\n",
      "Iteration 79400: Cost 0.3327\n",
      "Iteration 79600: Cost 0.3327\n",
      "Iteration 79800: Cost 0.3327\n",
      "Iteration 80000: Cost 0.3327\n",
      "Iteration 80200: Cost 0.3327\n",
      "Iteration 80400: Cost 0.3327\n",
      "Iteration 80600: Cost 0.3327\n",
      "Iteration 80800: Cost 0.3327\n",
      "Iteration 81000: Cost 0.3327\n",
      "Iteration 81200: Cost 0.3327\n",
      "Iteration 81400: Cost 0.3327\n",
      "Iteration 81600: Cost 0.3327\n",
      "Iteration 81800: Cost 0.3327\n",
      "Iteration 82000: Cost 0.3327\n",
      "Iteration 82200: Cost 0.3327\n",
      "Iteration 82400: Cost 0.3327\n",
      "Iteration 82600: Cost 0.3327\n",
      "Iteration 82800: Cost 0.3327\n",
      "Iteration 83000: Cost 0.3327\n",
      "Iteration 83200: Cost 0.3327\n",
      "Iteration 83400: Cost 0.3327\n",
      "Iteration 83600: Cost 0.3327\n",
      "Iteration 83800: Cost 0.3327\n",
      "Iteration 84000: Cost 0.3327\n",
      "Iteration 84200: Cost 0.3327\n",
      "Iteration 84400: Cost 0.3327\n",
      "Iteration 84600: Cost 0.3327\n",
      "Iteration 84800: Cost 0.3327\n",
      "Iteration 85000: Cost 0.3327\n",
      "Iteration 85200: Cost 0.3327\n",
      "Iteration 85400: Cost 0.3327\n",
      "Iteration 85600: Cost 0.3327\n",
      "Iteration 85800: Cost 0.3327\n",
      "Iteration 86000: Cost 0.3327\n",
      "Iteration 86200: Cost 0.3327\n",
      "Iteration 86400: Cost 0.3327\n",
      "Iteration 86600: Cost 0.3327\n",
      "Iteration 86800: Cost 0.3327\n",
      "Iteration 87000: Cost 0.3327\n",
      "Iteration 87200: Cost 0.3327\n",
      "Iteration 87400: Cost 0.3327\n",
      "Iteration 87600: Cost 0.3327\n",
      "Iteration 87800: Cost 0.3327\n",
      "Iteration 88000: Cost 0.3327\n",
      "Iteration 88200: Cost 0.3327\n",
      "Iteration 88400: Cost 0.3327\n",
      "Iteration 88600: Cost 0.3327\n",
      "Iteration 88800: Cost 0.3327\n",
      "Iteration 89000: Cost 0.3327\n",
      "Iteration 89200: Cost 0.3327\n",
      "Iteration 89400: Cost 0.3327\n",
      "Iteration 89600: Cost 0.3327\n",
      "Iteration 89800: Cost 0.3327\n",
      "Iteration 90000: Cost 0.3327\n",
      "Iteration 90200: Cost 0.3327\n",
      "Iteration 90400: Cost 0.3327\n",
      "Iteration 90600: Cost 0.3327\n",
      "Iteration 90800: Cost 0.3327\n",
      "Iteration 91000: Cost 0.3327\n",
      "Iteration 91200: Cost 0.3327\n",
      "Iteration 91400: Cost 0.3327\n",
      "Iteration 91600: Cost 0.3327\n",
      "Iteration 91800: Cost 0.3327\n",
      "Iteration 92000: Cost 0.3327\n",
      "Iteration 92200: Cost 0.3327\n",
      "Iteration 92400: Cost 0.3327\n",
      "Iteration 92600: Cost 0.3327\n",
      "Iteration 92800: Cost 0.3327\n",
      "Iteration 93000: Cost 0.3327\n",
      "Iteration 93200: Cost 0.3327\n",
      "Iteration 93400: Cost 0.3327\n",
      "Iteration 93600: Cost 0.3327\n",
      "Iteration 93800: Cost 0.3327\n",
      "Iteration 94000: Cost 0.3327\n",
      "Iteration 94200: Cost 0.3327\n",
      "Iteration 94400: Cost 0.3327\n",
      "Iteration 94600: Cost 0.3327\n",
      "Iteration 94800: Cost 0.3327\n",
      "Iteration 95000: Cost 0.3327\n",
      "Iteration 95200: Cost 0.3327\n",
      "Iteration 95400: Cost 0.3327\n",
      "Iteration 95600: Cost 0.3327\n",
      "Iteration 95800: Cost 0.3327\n",
      "Iteration 96000: Cost 0.3327\n",
      "Iteration 96200: Cost 0.3327\n",
      "Iteration 96400: Cost 0.3327\n",
      "Iteration 96600: Cost 0.3327\n",
      "Iteration 96800: Cost 0.3327\n",
      "Iteration 97000: Cost 0.3327\n",
      "Iteration 97200: Cost 0.3327\n",
      "Iteration 97400: Cost 0.3327\n",
      "Iteration 97600: Cost 0.3327\n",
      "Iteration 97800: Cost 0.3327\n",
      "Iteration 98000: Cost 0.3327\n",
      "Iteration 98200: Cost 0.3327\n",
      "Iteration 98400: Cost 0.3327\n",
      "Iteration 98600: Cost 0.3327\n",
      "Iteration 98800: Cost 0.3327\n",
      "Iteration 99000: Cost 0.3327\n",
      "Iteration 99200: Cost 0.3327\n",
      "Iteration 99400: Cost 0.3327\n",
      "Iteration 99600: Cost 0.3327\n",
      "Iteration 99800: Cost 0.3327\n"
     ]
    }
   ],
   "source": [
    "np.random.seed(1)\n",
    "initial_w = np.random.rand(X_mapped.shape[1])-0.5\n",
    "initial_b = 1.\n",
    "lambda_ = 0.01\n",
    "iterations = 100000\n",
    "alpha = 1\n",
    "def gradient_descent(X_mapped, y_train, initial_w, initial_b, compute_cost_reg, compute_gradient_reg, alpha, iterations, lambda_):\n",
    "\n",
    "    w = initial_w  \n",
    "    b = initial_b  \n",
    "    J_history = []  \n",
    "\n",
    "    for i in range(iterations):\n",
    "\n",
    "        dj_db, dj_dw = compute_gradient_reg(X_mapped, y_train, w, b, lambda_)\n",
    "        cost = compute_cost_reg(X_mapped, y_train, w, b, lambda_)\n",
    "        \n",
    "        w = w - alpha * dj_dw\n",
    "        b = b - alpha * dj_db\n",
    "\n",
    "        J_history.append(cost)\n",
    "        \n",
    "        if i % 200 == 0:\n",
    "            print(f\"Iteration {i}: Cost {cost:.4f}\")            \n",
    "    \n",
    "    return w, b, J_history\n",
    "\n",
    "w, b, J_history = gradient_descent(X_mapped, y_train, initial_w, initial_b, compute_cost_reg, compute_gradient_reg, alpha, iterations, lambda_)"
   ]
  },
  {
   "cell_type": "code",
   "execution_count": 126,
   "metadata": {
    "id": "cqSOrJsTAf9p"
   },
   "outputs": [],
   "source": [
    "#plot decision boundary\n",
    "def plot_decision_boundary(w,b,X,y):\n",
    "\n",
    "    plot_data(X[:, 0:2], y)\n",
    "\n",
    "    if X.shape[1] <= 2:\n",
    "        plot_x = np.array([min(X[:, 0]), max(X[:, 0])])\n",
    "        plot_y = (-1. / w[1]) * (w[0] * plot_x + b)\n",
    "\n",
    "        plt.plot(plot_x, plot_y, c=\"b\")\n",
    "\n",
    "    else:\n",
    "        u = np.linspace(-1, 1.5, 50)\n",
    "        v = np.linspace(-1, 1.5, 50)\n",
    "\n",
    "        z = np.zeros((len(u), len(v)))\n",
    "\n",
    "\n",
    "        for i in range(len(u)):\n",
    "            for j in range(len(v)):\n",
    "                z[i,j] = sigmoid(np.dot(map_feature(u[i], v[j]), w) + b)\n",
    "\n",
    "\n",
    "        z = z.T\n",
    "\n",
    "\n",
    "        plt.contour(u,v,z, levels = [0.5], colors=\"g\")"
   ]
  },
  {
   "cell_type": "code",
   "execution_count": 127,
   "metadata": {
    "id": "etir_m_AAyYC"
   },
   "outputs": [
    {
     "name": "stderr",
     "output_type": "stream",
     "text": [
      "/tmp/ipykernel_71909/1319808980.py:21: DeprecationWarning: Conversion of an array with ndim > 0 to a scalar is deprecated, and will error in future. Ensure you extract a single element from your array before performing this operation. (Deprecated NumPy 1.25.)\n",
      "  z[i,j] = sigmoid(np.dot(map_feature(u[i], v[j]), w) + b)\n"
     ]
    },
    {
     "data": {
      "image/png": "[encoded data removed]",
      "text/plain": [
       "<Figure size 640x480 with 1 Axes>"
      ]
     },
     "metadata": {},
     "output_type": "display_data"
    }
   ],
   "source": [
    "plot_decision_boundary(w, b, X_mapped, y_train)"
   ]
  },
  {
   "cell_type": "code",
   "execution_count": 132,
   "metadata": {
    "id": "MD2Dup4OA1ew"
   },
   "outputs": [],
   "source": [
    "#predict your training model\n",
    "def predict(X, w, b):\n",
    "    m,n=X.shape\n",
    "    p=np.zeros(m)\n",
    "    \n",
    "    z = np.dot(X, w) + b\n",
    "    prediction = sigmoid(z)\n",
    "\n",
    "    for i in range(m): \n",
    "        if prediction[i] > 0.5:  \n",
    "            p[i] = 1\n",
    "        else:\n",
    "            p[i] = 0\n",
    "    \n",
    "    return p"
   ]
  },
  {
   "cell_type": "code",
   "execution_count": 133,
   "metadata": {
    "id": "TAhIPFIsBTjk"
   },
   "outputs": [
    {
     "name": "stdout",
     "output_type": "stream",
     "text": [
      "Accuracy of training model: 83.898305\n"
     ]
    }
   ],
   "source": [
    "p = predict(X_mapped, w, b)\n",
    "\n",
    "print('Accuracy of training model: %f'%(np.mean(p == y_train) * 100))"
   ]
  }
 ],
 "metadata": {
  "colab": {
   "provenance": []
  },
  "kernelspec": {
   "display_name": "Python 3 (ipykernel)",
   "language": "python",
   "name": "python3"
  },
  "language_info": {
   "codemirror_mode": {
    "name": "ipython",
    "version": 3
   },
   "file_extension": ".py",
   "mimetype": "text/x-python",
   "name": "python",
   "nbconvert_exporter": "python",
   "pygments_lexer": "ipython3",
   "version": "3.12.3"
  }
 },
 "nbformat": 4,
 "nbformat_minor": 1
}
